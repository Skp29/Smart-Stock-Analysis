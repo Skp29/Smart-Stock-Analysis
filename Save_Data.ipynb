{
 "cells": [
  {
   "cell_type": "code",
   "execution_count": 14,
   "id": "77004bb1",
   "metadata": {},
   "outputs": [],
   "source": [
    "import requests\n",
    "import csv"
   ]
  },
  {
   "cell_type": "code",
   "execution_count": 15,
   "id": "16a51a57",
   "metadata": {},
   "outputs": [],
   "source": [
    "# Function to fetch intraday stock data\n",
    "def fetch_daily_data(api_key, symbol):\n",
    "    url = \"https://www.alphavantage.co/query\"\n",
    "    params = {\n",
    "        \"function\": \"TIME_SERIES_DAILY\",\n",
    "        \"symbol\": symbol,\n",
    "        \"apikey\": api_key\n",
    "    }\n",
    "    response = requests.get(url, params=params)\n",
    "    if response.status_code == 200:\n",
    "        data = response.json()\n",
    "        return data\n",
    "    else:\n",
    "        print(\"Error fetching data!\")\n",
    "        return None"
   ]
  },
  {
   "cell_type": "code",
   "execution_count": 16,
   "id": "5426c850",
   "metadata": {},
   "outputs": [],
   "source": [
    "# Function to save intraday stock data to a CSV file\n",
    "def save_daily_to_csv(data, filename):\n",
    "    if \"Time Series (Daily)\" in data:\n",
    "        daily_data = data[\"Time Series (Daily)\"]\n",
    "        with open(filename, mode=\"w\", newline=\"\") as file:\n",
    "            writer = csv.writer(file)\n",
    "            writer.writerow([\"Date\", \"Open\", \"High\", \"Low\", \"Close\", \"Volume\"])\n",
    "            for date, values in daily_data.items():\n",
    "                writer.writerow([\n",
    "                    date,\n",
    "                    values[\"1. open\"],\n",
    "                    values[\"2. high\"],\n",
    "                    values[\"3. low\"],\n",
    "                    values[\"4. close\"],\n",
    "                    values[\"5. volume\"]\n",
    "                ])\n",
    "        print(f\"Daily data saved to {filename}\")\n",
    "    else:\n",
    "        print(\"No daily data available to save!\")"
   ]
  },
  {
   "cell_type": "code",
   "execution_count": 17,
   "id": "3ebd8b67",
   "metadata": {},
   "outputs": [
    {
     "name": "stdout",
     "output_type": "stream",
     "text": [
      "Daily data saved to shopify_daily.csv\n"
     ]
    }
   ],
   "source": [
    "# Main program\n",
    "if __name__ == \"__main__\":\n",
    "    API_KEY = \"1O2P4P653ACLEDA1\"\n",
    "    SYMBOL = \"SHOP\"  # Shopify on US exchange\n",
    "    FILENAME = \"shopify_daily.csv\"\n",
    "    \n",
    "    # Fetch and save daily data\n",
    "    daily_data = fetch_daily_data(API_KEY, SYMBOL)\n",
    "    if daily_data:\n",
    "        save_daily_to_csv(daily_data, FILENAME)"
   ]
  }
 ],
 "metadata": {
  "kernelspec": {
   "display_name": "Python 3 (ipykernel)",
   "language": "python",
   "name": "python3"
  },
  "language_info": {
   "codemirror_mode": {
    "name": "ipython",
    "version": 3
   },
   "file_extension": ".py",
   "mimetype": "text/x-python",
   "name": "python",
   "nbconvert_exporter": "python",
   "pygments_lexer": "ipython3",
   "version": "3.11.5"
  }
 },
 "nbformat": 4,
 "nbformat_minor": 5
}
